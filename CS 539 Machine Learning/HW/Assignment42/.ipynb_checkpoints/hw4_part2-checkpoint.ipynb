{
 "cells": [
  {
   "cell_type": "markdown",
   "metadata": {
    "id": "9XHd5ExbUIUg"
   },
   "source": [
    "# Pytorch with the MNIST Dataset - MINST"
   ]
  },
  {
   "cell_type": "code",
   "execution_count": 11,
   "metadata": {},
   "outputs": [
    {
     "name": "stdout",
     "output_type": "stream",
     "text": [
      "Collecting torch\n",
      "  Using cached torch-2.2.2-cp312-none-macosx_10_9_x86_64.whl.metadata (25 kB)\n",
      "Collecting torchvision\n",
      "  Using cached torchvision-0.17.2-cp312-cp312-macosx_10_13_x86_64.whl.metadata (6.6 kB)\n",
      "Requirement already satisfied: filelock in /opt/anaconda3/lib/python3.12/site-packages (from torch) (3.13.1)\n",
      "Requirement already satisfied: typing-extensions>=4.8.0 in /opt/anaconda3/lib/python3.12/site-packages (from torch) (4.11.0)\n",
      "Requirement already satisfied: sympy in /opt/anaconda3/lib/python3.12/site-packages (from torch) (1.13.2)\n",
      "Requirement already satisfied: networkx in /opt/anaconda3/lib/python3.12/site-packages (from torch) (3.3)\n",
      "Requirement already satisfied: jinja2 in /opt/anaconda3/lib/python3.12/site-packages (from torch) (3.1.4)\n",
      "Requirement already satisfied: fsspec in /opt/anaconda3/lib/python3.12/site-packages (from torch) (2024.6.1)\n",
      "Requirement already satisfied: numpy in /opt/anaconda3/lib/python3.12/site-packages (from torchvision) (1.26.4)\n",
      "Requirement already satisfied: pillow!=8.3.*,>=5.3.0 in /opt/anaconda3/lib/python3.12/site-packages (from torchvision) (10.4.0)\n",
      "Requirement already satisfied: MarkupSafe>=2.0 in /opt/anaconda3/lib/python3.12/site-packages (from jinja2->torch) (2.1.3)\n",
      "Requirement already satisfied: mpmath<1.4,>=1.1.0 in /opt/anaconda3/lib/python3.12/site-packages (from sympy->torch) (1.3.0)\n",
      "Downloading torch-2.2.2-cp312-none-macosx_10_9_x86_64.whl (150.8 MB)\n",
      "\u001b[2K   \u001b[90m━━━━━━━━━━━━━━━━━━━━━━━━━━━━━━━━━━━━━━━━\u001b[0m \u001b[32m150.8/150.8 MB\u001b[0m \u001b[31m31.9 MB/s\u001b[0m eta \u001b[36m0:00:00\u001b[0m00:01\u001b[0m00:01\u001b[0m\n",
      "\u001b[?25hDownloading torchvision-0.17.2-cp312-cp312-macosx_10_13_x86_64.whl (1.7 MB)\n",
      "\u001b[2K   \u001b[90m━━━━━━━━━━━━━━━━━━━━━━━━━━━━━━━━━━━━━━━━\u001b[0m \u001b[32m1.7/1.7 MB\u001b[0m \u001b[31m16.8 MB/s\u001b[0m eta \u001b[36m0:00:00\u001b[0m\n",
      "\u001b[?25hInstalling collected packages: torch, torchvision\n",
      "Successfully installed torch-2.2.2 torchvision-0.17.2\n"
     ]
    }
   ],
   "source": [
    "!pip install torch torchvision "
   ]
  },
  {
   "cell_type": "code",
   "execution_count": 13,
   "metadata": {
    "id": "Su0COdCqT2Wk"
   },
   "outputs": [],
   "source": [
    "## import libraries\n",
    "from __future__ import print_function\n",
    "import argparse\n",
    "import torch\n",
    "import torch.nn as nn\n",
    "import torch.nn.functional as F\n",
    "import torchvision\n",
    "\n",
    "import torch.optim as optim\n",
    "from torchvision import datasets, transforms\n",
    "from torch.autograd import Variable"
   ]
  },
  {
   "cell_type": "code",
   "execution_count": 14,
   "metadata": {
    "id": "rXCYmmjyVRq5"
   },
   "outputs": [
    {
     "name": "stdout",
     "output_type": "stream",
     "text": [
      "2.2.2\n"
     ]
    }
   ],
   "source": [
    "print(torch.__version__)"
   ]
  },
  {
   "cell_type": "code",
   "execution_count": 17,
   "metadata": {
    "id": "Fp3VqwxU9teg"
   },
   "outputs": [],
   "source": [
    "args={}\n",
    "kwargs={}\n",
    "args['batch_size']=32\n",
    "args['test_batch_size']=32\n",
    "args['epochs']=1  #The number of Epochs is the number of times you go through the full dataset.\n",
    "args['lr']=0.01 #Learning rate is how fast it will decend.\n",
    "args['momentum']=0.5 #SGD momentum (default: 0.5) Momentum is a moving average of our gradients (helps to keep direction).\n",
    "\n",
    "args['seed']=1 #random seed\n",
    "args['log_interval']=10\n",
    "args['cuda']=True #if the computer has a GPU, type True, otherwise, False"
   ]
  },
  {
   "cell_type": "markdown",
   "metadata": {
    "id": "ys8268Yr6sAC"
   },
   "source": [
    "This code is adopted from the pytorch examples repository. It is licensed under BSD 3-Clause \"New\" or \"Revised\" License. Source: https://github.com/pytorch/examples/ LICENSE: https://github.com/pytorch/examples/blob/master/LICENSE"
   ]
  },
  {
   "cell_type": "markdown",
   "metadata": {
    "id": "hhuQyU7AYE6K"
   },
   "source": [
    "## Load Dataset\n",
    "The first step before training the model is to import the data. We will use the [MNIST dataset](http://yann.lecun.com/exdb/mnist/) which is like the Hello World dataset of machine learning.\n",
    "\n",
    "Besides importing the data, we will also do a few more things:\n",
    "- We will tranform the data into tensors using the `transforms` module\n",
    "- We will use `DataLoader` to build convenient data loaders or what are referred to as iterators, which makes it easy to efficiently feed data in batches to deep learning models.\n",
    "- As hinted above, we will also create batches of the data by setting the `batch` parameter inside the data loader. Notice we use batches of `32` in this tutorial but you can change it to `64` if you like. I encourage you to experiment with different batches."
   ]
  },
  {
   "cell_type": "code",
   "execution_count": 19,
   "metadata": {
    "id": "tSjjLXrOVWBy"
   },
   "outputs": [
    {
     "name": "stdout",
     "output_type": "stream",
     "text": [
      "Downloading http://yann.lecun.com/exdb/mnist/train-images-idx3-ubyte.gz\n",
      "Failed to download (trying next):\n",
      "HTTP Error 404: Not Found\n",
      "\n",
      "Downloading https://ossci-datasets.s3.amazonaws.com/mnist/train-images-idx3-ubyte.gz\n",
      "Downloading https://ossci-datasets.s3.amazonaws.com/mnist/train-images-idx3-ubyte.gz to ../data/MNIST/raw/train-images-idx3-ubyte.gz\n"
     ]
    },
    {
     "name": "stderr",
     "output_type": "stream",
     "text": [
      "100%|███████████████████████████| 9912422/9912422 [00:00<00:00, 12265571.18it/s]\n"
     ]
    },
    {
     "name": "stdout",
     "output_type": "stream",
     "text": [
      "Extracting ../data/MNIST/raw/train-images-idx3-ubyte.gz to ../data/MNIST/raw\n",
      "\n",
      "Downloading http://yann.lecun.com/exdb/mnist/train-labels-idx1-ubyte.gz\n",
      "Failed to download (trying next):\n",
      "HTTP Error 404: Not Found\n",
      "\n",
      "Downloading https://ossci-datasets.s3.amazonaws.com/mnist/train-labels-idx1-ubyte.gz\n",
      "Downloading https://ossci-datasets.s3.amazonaws.com/mnist/train-labels-idx1-ubyte.gz to ../data/MNIST/raw/train-labels-idx1-ubyte.gz\n"
     ]
    },
    {
     "name": "stderr",
     "output_type": "stream",
     "text": [
      "100%|████████████████████████████████| 28881/28881 [00:00<00:00, 1487879.31it/s]\n"
     ]
    },
    {
     "name": "stdout",
     "output_type": "stream",
     "text": [
      "Extracting ../data/MNIST/raw/train-labels-idx1-ubyte.gz to ../data/MNIST/raw\n",
      "\n",
      "Downloading http://yann.lecun.com/exdb/mnist/t10k-images-idx3-ubyte.gz\n",
      "Failed to download (trying next):\n",
      "HTTP Error 404: Not Found\n",
      "\n",
      "Downloading https://ossci-datasets.s3.amazonaws.com/mnist/t10k-images-idx3-ubyte.gz\n",
      "Downloading https://ossci-datasets.s3.amazonaws.com/mnist/t10k-images-idx3-ubyte.gz to ../data/MNIST/raw/t10k-images-idx3-ubyte.gz\n"
     ]
    },
    {
     "name": "stderr",
     "output_type": "stream",
     "text": [
      "100%|████████████████████████████| 1648877/1648877 [00:00<00:00, 7324107.87it/s]\n"
     ]
    },
    {
     "name": "stdout",
     "output_type": "stream",
     "text": [
      "Extracting ../data/MNIST/raw/t10k-images-idx3-ubyte.gz to ../data/MNIST/raw\n",
      "\n",
      "Downloading http://yann.lecun.com/exdb/mnist/t10k-labels-idx1-ubyte.gz\n",
      "Failed to download (trying next):\n",
      "HTTP Error 404: Not Found\n",
      "\n",
      "Downloading https://ossci-datasets.s3.amazonaws.com/mnist/t10k-labels-idx1-ubyte.gz\n",
      "Downloading https://ossci-datasets.s3.amazonaws.com/mnist/t10k-labels-idx1-ubyte.gz to ../data/MNIST/raw/t10k-labels-idx1-ubyte.gz\n"
     ]
    },
    {
     "name": "stderr",
     "output_type": "stream",
     "text": [
      "100%|██████████████████████████████████| 4542/4542 [00:00<00:00, 2059739.30it/s]\n"
     ]
    },
    {
     "name": "stdout",
     "output_type": "stream",
     "text": [
      "Extracting ../data/MNIST/raw/t10k-labels-idx1-ubyte.gz to ../data/MNIST/raw\n",
      "\n",
      "Downloading http://yann.lecun.com/exdb/mnist/train-images-idx3-ubyte.gz\n",
      "Failed to download (trying next):\n",
      "HTTP Error 404: Not Found\n",
      "\n",
      "Downloading https://ossci-datasets.s3.amazonaws.com/mnist/train-images-idx3-ubyte.gz\n",
      "Downloading https://ossci-datasets.s3.amazonaws.com/mnist/train-images-idx3-ubyte.gz to ./data/MNIST/raw/train-images-idx3-ubyte.gz\n"
     ]
    },
    {
     "name": "stderr",
     "output_type": "stream",
     "text": [
      "100%|████████████████████████████| 9912422/9912422 [00:01<00:00, 5322708.91it/s]\n"
     ]
    },
    {
     "name": "stdout",
     "output_type": "stream",
     "text": [
      "Extracting ./data/MNIST/raw/train-images-idx3-ubyte.gz to ./data/MNIST/raw\n",
      "\n",
      "Downloading http://yann.lecun.com/exdb/mnist/train-labels-idx1-ubyte.gz\n",
      "Failed to download (trying next):\n",
      "HTTP Error 404: Not Found\n",
      "\n",
      "Downloading https://ossci-datasets.s3.amazonaws.com/mnist/train-labels-idx1-ubyte.gz\n",
      "Downloading https://ossci-datasets.s3.amazonaws.com/mnist/train-labels-idx1-ubyte.gz to ./data/MNIST/raw/train-labels-idx1-ubyte.gz\n"
     ]
    },
    {
     "name": "stderr",
     "output_type": "stream",
     "text": [
      "100%|████████████████████████████████| 28881/28881 [00:00<00:00, 1366818.92it/s]\n"
     ]
    },
    {
     "name": "stdout",
     "output_type": "stream",
     "text": [
      "Extracting ./data/MNIST/raw/train-labels-idx1-ubyte.gz to ./data/MNIST/raw\n",
      "\n",
      "Downloading http://yann.lecun.com/exdb/mnist/t10k-images-idx3-ubyte.gz\n",
      "Failed to download (trying next):\n",
      "HTTP Error 404: Not Found\n",
      "\n",
      "Downloading https://ossci-datasets.s3.amazonaws.com/mnist/t10k-images-idx3-ubyte.gz\n",
      "Downloading https://ossci-datasets.s3.amazonaws.com/mnist/t10k-images-idx3-ubyte.gz to ./data/MNIST/raw/t10k-images-idx3-ubyte.gz\n"
     ]
    },
    {
     "name": "stderr",
     "output_type": "stream",
     "text": [
      "100%|████████████████████████████| 1648877/1648877 [00:00<00:00, 9029698.72it/s]\n"
     ]
    },
    {
     "name": "stdout",
     "output_type": "stream",
     "text": [
      "Extracting ./data/MNIST/raw/t10k-images-idx3-ubyte.gz to ./data/MNIST/raw\n",
      "\n",
      "Downloading http://yann.lecun.com/exdb/mnist/t10k-labels-idx1-ubyte.gz\n",
      "Failed to download (trying next):\n",
      "HTTP Error 404: Not Found\n",
      "\n",
      "Downloading https://ossci-datasets.s3.amazonaws.com/mnist/t10k-labels-idx1-ubyte.gz\n",
      "Downloading https://ossci-datasets.s3.amazonaws.com/mnist/t10k-labels-idx1-ubyte.gz to ./data/MNIST/raw/t10k-labels-idx1-ubyte.gz\n"
     ]
    },
    {
     "name": "stderr",
     "output_type": "stream",
     "text": [
      "100%|██████████████████████████████████| 4542/4542 [00:00<00:00, 3279485.07it/s]"
     ]
    },
    {
     "name": "stdout",
     "output_type": "stream",
     "text": [
      "Extracting ./data/MNIST/raw/t10k-labels-idx1-ubyte.gz to ./data/MNIST/raw\n",
      "\n"
     ]
    },
    {
     "name": "stderr",
     "output_type": "stream",
     "text": [
      "\n"
     ]
    }
   ],
   "source": [
    "## transformations\n",
    "transform = transforms.Compose([\n",
    "                       transforms.ToTensor(),\n",
    "                       transforms.Normalize((0.1307,), (0.3081,))\n",
    "                   ])\n",
    "\n",
    "## download and load training dataset\n",
    "trainset = datasets.MNIST(root='../data', train=True, download=True, transform=transform)\n",
    "train_loader = torch.utils.data.DataLoader(trainset, batch_size=args['batch_size'], shuffle=True, **kwargs)\n",
    "\n",
    "## download and load testing dataset\n",
    "testset = torchvision.datasets.MNIST(root='./data', train=False, download=True, transform=transform)\n",
    "test_loader = torch.utils.data.DataLoader(testset, batch_size=args['test_batch_size'], shuffle=True, **kwargs)"
   ]
  },
  {
   "cell_type": "markdown",
   "metadata": {
    "id": "0nZwZukWXUDn"
   },
   "source": [
    "## Exploring the Data\n",
    "As a practioner and researcher, I am always spending a bit of time and effort exploring and understanding the dataset. It's fun and this is a good practise to ensure that everything is in order."
   ]
  },
  {
   "cell_type": "markdown",
   "metadata": {
    "id": "NW_loWKga7CH"
   },
   "source": [
    "Let's check what the train and test dataset contains. I will use `matplotlib` to print out some of the images from our dataset."
   ]
  },
  {
   "cell_type": "code",
   "execution_count": 21,
   "metadata": {
    "id": "zWd9Pt1Ca6K9"
   },
   "outputs": [
    {
     "name": "stderr",
     "output_type": "stream",
     "text": [
      "Clipping input data to the valid range for imshow with RGB data ([0..1] for floats or [0..255] for integers). Got range [-0.42421296..2.8214867].\n"
     ]
    },
    {
     "data": {
      "image/png": "[encoded data removed]",
      "text/plain": [
       "<Figure size 640x480 with 1 Axes>"
      ]
     },
     "metadata": {},
     "output_type": "display_data"
    }
   ],
   "source": [
    "import matplotlib.pyplot as plt\n",
    "import numpy as np\n",
    "\n",
    "## functions to show an image\n",
    "def imshow(img):\n",
    "    #img = img / 2 + 0.5     # unnormalize\n",
    "    npimg = img.numpy()\n",
    "    plt.imshow(np.transpose(npimg, (1, 2, 0)))\n",
    "\n",
    "## get some random training images\n",
    "dataiter = iter(train_loader)\n",
    "images, labels = next(dataiter)\n",
    "\n",
    "## show images\n",
    "imshow(torchvision.utils.make_grid(images))"
   ]
  },
  {
   "cell_type": "markdown",
   "metadata": {
    "id": "d9mXAVmRvhrq"
   },
   "source": [
    "Let's check the dimensions of a batch."
   ]
  },
  {
   "cell_type": "code",
   "execution_count": 23,
   "metadata": {
    "id": "cNFKWz1GZ4R5"
   },
   "outputs": [
    {
     "name": "stdout",
     "output_type": "stream",
     "text": [
      "Image batch dimensions: torch.Size([32, 1, 28, 28])\n",
      "Image label dimensions: torch.Size([32])\n"
     ]
    }
   ],
   "source": [
    "for images, labels in train_loader:\n",
    "    print(\"Image batch dimensions:\", images.shape)\n",
    "    print(\"Image label dimensions:\", labels.shape)\n",
    "    break"
   ]
  },
  {
   "cell_type": "markdown",
   "metadata": {
    "id": "tmaCTw5tXowR"
   },
   "source": [
    "## The Model\n",
    "We provide two fully-connected neural net as the initial architecture.\n",
    "\n",
    "Here are a few notes for those who are beginning with PyTorch:\n",
    "- The model below consists of an `__init__()` portion which is where you include the layers and components of the neural network. In our model, we have two fully-connected netork network. We are dealing with an image dataset that is in a grayscale so we only need one channel going in, hence `in_channels=1`.\n",
    "\n",
    "- After the first layer, we also apply an activation function such as `ReLU`. For prediction purposes, we then apply a `softmax` layer to the last transformation and return the output of that.  "
   ]
  },
  {
   "cell_type": "code",
   "execution_count": 25,
   "metadata": {
    "id": "_IYnV4ZBa3cJ"
   },
   "outputs": [],
   "source": [
    "class Net(nn.Module):\n",
    "    #This defines the structure of the NN.\n",
    "    def __init__(self):\n",
    "        super(Net, self).__init__()\n",
    "        self.fc1 = nn.Linear(784, 256)\n",
    "        self.fc2 = nn.Linear(256, 10)\n",
    "\n",
    "    def forward(self, x):\n",
    "        x=x.view(-1,784)\n",
    "        x = F.relu(self.fc1(x))\n",
    "        x = self.fc2(x)\n",
    "\n",
    "        #Softmax gets probabilities.\n",
    "        return F.log_softmax(x, dim=1)\n"
   ]
  },
  {
   "cell_type": "markdown",
   "metadata": {
    "id": "ZqgR0prhZD3z"
   },
   "source": [
    "**Now, add one CNN layer with a pooling to the above neural network and rerun the code to see whether you get higher prediction accuracy on the test set.**\n",
    "\n",
    "For example, you may try `out_channels=32`. Kernel size is 5, and for the rest of parameters we use the default values which you can find [here](https://pytorch.org/docs/stable/nn.html?highlight=conv2d#conv2d).\n",
    "\n",
    "- In short, the convolutional layer transforms the input data into a specific dimension that has to be considered in the linear layer.\n",
    "\n",
    "Make sure your flatten the output of CNN layer excluding # of batch so that the input of each example/batch has the same size of the first neural net.\n",
    "\n",
    "Tips: You can use x.view(-1, # of input size of the first fully-connected layer) or you can use torch.flatten(x, 1)."
   ]
  },
  {
   "cell_type": "markdown",
   "metadata": {
    "id": "evsFbkq_X6bc"
   },
   "source": [
    "I always encourage to test the model with 1 batch to ensure that the output dimensions are what we expect."
   ]
  },
  {
   "cell_type": "code",
   "execution_count": 109,
   "metadata": {},
   "outputs": [],
   "source": [
    "# after 1 CNN layer + Pooling before the FC layer\n",
    "class NetWithCNN(nn.Module):\n",
    "    def __init__(self):\n",
    "        super(NetWithCNN, self).__init__()\n",
    "        self.conv1 = nn.Conv2d(1, 10, kernel_size=5)  # out: (10, 24, 24)\n",
    "        self.pool = nn.MaxPool2d(2, 2)                # out: (10, 12, 12)\n",
    "        self.fc1 = nn.Linear(10 * 12 * 12, 128)\n",
    "        self.fc2 = nn.Linear(128, 10)\n",
    "\n",
    "    def forward(self, x):\n",
    "        x = F.relu(self.conv1(x))\n",
    "        x = self.pool(x)\n",
    "        x = x.view(-1, 10 * 12 * 12)\n",
    "        x = F.relu(self.fc1(x))\n",
    "        x = self.fc2(x)\n",
    "        return F.log_softmax(x, dim=1)\n"
   ]
  },
  {
   "cell_type": "code",
   "execution_count": 131,
   "metadata": {},
   "outputs": [],
   "source": [
    "# Experiment 1 - More CNN layer + More FC layer\n",
    "class NetExp1(nn.Module):\n",
    "    def __init__(self):\n",
    "        super(NetExp1, self).__init__()\n",
    "        self.conv1 = nn.Conv2d(1, 16, 3, padding=1)     # 28x28 → 28x28\n",
    "        self.conv2 = nn.Conv2d(16, 32, 3, padding=1)    # 28x28 → 28x28\n",
    "        self.pool = nn.MaxPool2d(2, 2)                  # 28x28 → 14x14\n",
    "        self.fc1 = nn.Linear(32 * 14 * 14, 256)\n",
    "        self.fc2 = nn.Linear(256, 128)\n",
    "        self.fc3 = nn.Linear(128, 10)\n",
    "\n",
    "    def forward(self, x):\n",
    "        x = F.relu(self.conv1(x))\n",
    "        x = F.relu(self.conv2(x))\n",
    "        x = self.pool(x)\n",
    "        x = x.view(-1, 32 * 14 * 14)\n",
    "        x = F.relu(self.fc1(x))\n",
    "        x = F.relu(self.fc2(x))\n",
    "        x = self.fc3(x)\n",
    "        return F.log_softmax(x, dim=1)\n"
   ]
  },
  {
   "cell_type": "code",
   "execution_count": 145,
   "metadata": {
    "id": "1poxFYqftKov"
   },
   "outputs": [
    {
     "name": "stdout",
     "output_type": "stream",
     "text": [
      "batch size: 32\n",
      "torch.Size([32, 10])\n"
     ]
    }
   ],
   "source": [
    "## test the model with 1 batch\n",
    "model = NetWithCNN()\n",
    "#print(model)\n",
    "for images, labels in train_loader:\n",
    "    print(\"batch size:\", args['batch_size'])\n",
    "    out = model(images)\n",
    "    print(out.shape)\n",
    "    break"
   ]
  },
  {
   "cell_type": "markdown",
   "metadata": {
    "id": "9h_3eZQRHV_P"
   },
   "source": [
    "## Training the Model\n",
    "Now we are ready to train the model."
   ]
  },
  {
   "cell_type": "code",
   "execution_count": 147,
   "metadata": {
    "id": "E59hwZlAIVcL"
   },
   "outputs": [],
   "source": [
    "def train(epoch):\n",
    "    model.train()\n",
    "    for batch_idx, (data, target) in enumerate(train_loader):\n",
    "        data, target = data.to(device), target.to(device)\n",
    "        #Variables in Pytorch are differenciable.\n",
    "        data, target = Variable(data), Variable(target)\n",
    "        #This will zero out the gradients for this batch.\n",
    "        optimizer.zero_grad()\n",
    "        output = model(data)\n",
    "        # Calculate the loss The negative log likelihood loss. It is useful to train a classification problem with C classes.\n",
    "        loss = F.nll_loss(output, target)\n",
    "        #dloss/dx for every Variable\n",
    "        loss.backward()\n",
    "        #to do a one-step update on our parameter.\n",
    "        optimizer.step()\n",
    "        #Print out the loss periodically.\n",
    "        if batch_idx % args['log_interval'] == 0:\n",
    "            print('Train Epoch: {} [{}/{} ({:.0f}%)]\\tLoss: {:.6f}'.format(\n",
    "                epoch, batch_idx * len(data), len(train_loader.dataset),\n",
    "                100. * batch_idx / len(train_loader), loss.data.item()))"
   ]
  },
  {
   "cell_type": "code",
   "execution_count": 149,
   "metadata": {
    "id": "dmoO9DlN_Ir6"
   },
   "outputs": [],
   "source": [
    "def test():\n",
    "    model.eval()\n",
    "    test_loss = 0\n",
    "    correct = 0\n",
    "\n",
    "    with torch.no_grad():\n",
    "      for data, target in test_loader:\n",
    "          data, target = data.to(device), target.to(device)\n",
    "          data, target = Variable(data), Variable(target)\n",
    "          output = model(data)\n",
    "          test_loss += F.nll_loss(output, target, size_average=False).data.item() # sum up batch loss\n",
    "          pred = output.data.max(1, keepdim=True)[1] # get the index of the max log-probability\n",
    "          correct += pred.eq(target.data.view_as(pred)).long().cpu().sum()\n",
    "\n",
    "    test_loss /= len(test_loader.dataset)\n",
    "    print('\\nTest set: Average loss: {:.4f}, Accuracy: {}/{} ({:.0f}%)\\n'.format(\n",
    "        test_loss, correct, len(test_loader.dataset),\n",
    "        100. * correct / len(test_loader.dataset)))"
   ]
  },
  {
   "cell_type": "code",
   "execution_count": 153,
   "metadata": {
    "id": "PQcWwu_A_2gx"
   },
   "outputs": [
    {
     "name": "stdout",
     "output_type": "stream",
     "text": [
      "Train Epoch: 1 [0/60000 (0%)]\tLoss: 2.290407\n",
      "Train Epoch: 1 [320/60000 (1%)]\tLoss: 2.143053\n",
      "Train Epoch: 1 [640/60000 (1%)]\tLoss: 2.546284\n",
      "Train Epoch: 1 [960/60000 (2%)]\tLoss: 2.379125\n",
      "Train Epoch: 1 [1280/60000 (2%)]\tLoss: 2.477479\n",
      "Train Epoch: 1 [1600/60000 (3%)]\tLoss: 2.407298\n",
      "Train Epoch: 1 [1920/60000 (3%)]\tLoss: 2.304969\n",
      "Train Epoch: 1 [2240/60000 (4%)]\tLoss: 2.424555\n",
      "Train Epoch: 1 [2560/60000 (4%)]\tLoss: 2.358737\n",
      "Train Epoch: 1 [2880/60000 (5%)]\tLoss: 2.320850\n",
      "Train Epoch: 1 [3200/60000 (5%)]\tLoss: 2.248785\n",
      "Train Epoch: 1 [3520/60000 (6%)]\tLoss: 2.327607\n",
      "Train Epoch: 1 [3840/60000 (6%)]\tLoss: 2.369597\n",
      "Train Epoch: 1 [4160/60000 (7%)]\tLoss: 2.291238\n",
      "Train Epoch: 1 [4480/60000 (7%)]\tLoss: 2.276531\n",
      "Train Epoch: 1 [4800/60000 (8%)]\tLoss: 2.381255\n",
      "Train Epoch: 1 [5120/60000 (9%)]\tLoss: 2.325629\n",
      "Train Epoch: 1 [5440/60000 (9%)]\tLoss: 2.319858\n",
      "Train Epoch: 1 [5760/60000 (10%)]\tLoss: 2.315318\n",
      "Train Epoch: 1 [6080/60000 (10%)]\tLoss: 2.255935\n",
      "Train Epoch: 1 [6400/60000 (11%)]\tLoss: 2.438922\n",
      "Train Epoch: 1 [6720/60000 (11%)]\tLoss: 2.435633\n",
      "Train Epoch: 1 [7040/60000 (12%)]\tLoss: 2.429018\n",
      "Train Epoch: 1 [7360/60000 (12%)]\tLoss: 2.368932\n",
      "Train Epoch: 1 [7680/60000 (13%)]\tLoss: 2.290400\n",
      "Train Epoch: 1 [8000/60000 (13%)]\tLoss: 2.331176\n",
      "Train Epoch: 1 [8320/60000 (14%)]\tLoss: 2.323382\n",
      "Train Epoch: 1 [8640/60000 (14%)]\tLoss: 2.320491\n",
      "Train Epoch: 1 [8960/60000 (15%)]\tLoss: 2.376730\n",
      "Train Epoch: 1 [9280/60000 (15%)]\tLoss: 2.354074\n",
      "Train Epoch: 1 [9600/60000 (16%)]\tLoss: 2.358622\n",
      "Train Epoch: 1 [9920/60000 (17%)]\tLoss: 2.373010\n",
      "Train Epoch: 1 [10240/60000 (17%)]\tLoss: 2.366330\n",
      "Train Epoch: 1 [10560/60000 (18%)]\tLoss: 2.374532\n",
      "Train Epoch: 1 [10880/60000 (18%)]\tLoss: 2.280559\n",
      "Train Epoch: 1 [11200/60000 (19%)]\tLoss: 2.316053\n",
      "Train Epoch: 1 [11520/60000 (19%)]\tLoss: 2.449332\n",
      "Train Epoch: 1 [11840/60000 (20%)]\tLoss: 2.375596\n",
      "Train Epoch: 1 [12160/60000 (20%)]\tLoss: 2.284115\n",
      "Train Epoch: 1 [12480/60000 (21%)]\tLoss: 2.484818\n",
      "Train Epoch: 1 [12800/60000 (21%)]\tLoss: 2.347411\n",
      "Train Epoch: 1 [13120/60000 (22%)]\tLoss: 2.271112\n",
      "Train Epoch: 1 [13440/60000 (22%)]\tLoss: 2.412021\n",
      "Train Epoch: 1 [13760/60000 (23%)]\tLoss: 2.398546\n",
      "Train Epoch: 1 [14080/60000 (23%)]\tLoss: 2.294347\n",
      "Train Epoch: 1 [14400/60000 (24%)]\tLoss: 2.312834\n",
      "Train Epoch: 1 [14720/60000 (25%)]\tLoss: 2.298466\n",
      "Train Epoch: 1 [15040/60000 (25%)]\tLoss: 2.300705\n",
      "Train Epoch: 1 [15360/60000 (26%)]\tLoss: 2.346334\n",
      "Train Epoch: 1 [15680/60000 (26%)]\tLoss: 2.399704\n",
      "Train Epoch: 1 [16000/60000 (27%)]\tLoss: 2.338439\n",
      "Train Epoch: 1 [16320/60000 (27%)]\tLoss: 2.303771\n",
      "Train Epoch: 1 [16640/60000 (28%)]\tLoss: 2.294575\n",
      "Train Epoch: 1 [16960/60000 (28%)]\tLoss: 2.357112\n",
      "Train Epoch: 1 [17280/60000 (29%)]\tLoss: 2.311190\n",
      "Train Epoch: 1 [17600/60000 (29%)]\tLoss: 2.297767\n",
      "Train Epoch: 1 [17920/60000 (30%)]\tLoss: 2.299149\n",
      "Train Epoch: 1 [18240/60000 (30%)]\tLoss: 2.347678\n",
      "Train Epoch: 1 [18560/60000 (31%)]\tLoss: 2.370142\n",
      "Train Epoch: 1 [18880/60000 (31%)]\tLoss: 2.423893\n",
      "Train Epoch: 1 [19200/60000 (32%)]\tLoss: 2.342716\n",
      "Train Epoch: 1 [19520/60000 (33%)]\tLoss: 2.376018\n",
      "Train Epoch: 1 [19840/60000 (33%)]\tLoss: 2.281797\n",
      "Train Epoch: 1 [20160/60000 (34%)]\tLoss: 2.325829\n",
      "Train Epoch: 1 [20480/60000 (34%)]\tLoss: 2.322720\n",
      "Train Epoch: 1 [20800/60000 (35%)]\tLoss: 2.281040\n",
      "Train Epoch: 1 [21120/60000 (35%)]\tLoss: 2.296355\n",
      "Train Epoch: 1 [21440/60000 (36%)]\tLoss: 2.376953\n",
      "Train Epoch: 1 [21760/60000 (36%)]\tLoss: 2.342217\n",
      "Train Epoch: 1 [22080/60000 (37%)]\tLoss: 2.390516\n",
      "Train Epoch: 1 [22400/60000 (37%)]\tLoss: 2.340495\n",
      "Train Epoch: 1 [22720/60000 (38%)]\tLoss: 2.363263\n",
      "Train Epoch: 1 [23040/60000 (38%)]\tLoss: 2.312143\n",
      "Train Epoch: 1 [23360/60000 (39%)]\tLoss: 2.335202\n",
      "Train Epoch: 1 [23680/60000 (39%)]\tLoss: 2.375798\n",
      "Train Epoch: 1 [24000/60000 (40%)]\tLoss: 2.283684\n",
      "Train Epoch: 1 [24320/60000 (41%)]\tLoss: 2.380879\n",
      "Train Epoch: 1 [24640/60000 (41%)]\tLoss: 2.435957\n",
      "Train Epoch: 1 [24960/60000 (42%)]\tLoss: 2.333703\n",
      "Train Epoch: 1 [25280/60000 (42%)]\tLoss: 2.346380\n",
      "Train Epoch: 1 [25600/60000 (43%)]\tLoss: 2.320112\n",
      "Train Epoch: 1 [25920/60000 (43%)]\tLoss: 2.309483\n",
      "Train Epoch: 1 [26240/60000 (44%)]\tLoss: 2.261708\n",
      "Train Epoch: 1 [26560/60000 (44%)]\tLoss: 2.337251\n",
      "Train Epoch: 1 [26880/60000 (45%)]\tLoss: 2.294674\n",
      "Train Epoch: 1 [27200/60000 (45%)]\tLoss: 2.304774\n",
      "Train Epoch: 1 [27520/60000 (46%)]\tLoss: 2.333121\n",
      "Train Epoch: 1 [27840/60000 (46%)]\tLoss: 2.351943\n",
      "Train Epoch: 1 [28160/60000 (47%)]\tLoss: 2.452096\n",
      "Train Epoch: 1 [28480/60000 (47%)]\tLoss: 2.313029\n",
      "Train Epoch: 1 [28800/60000 (48%)]\tLoss: 2.376393\n",
      "Train Epoch: 1 [29120/60000 (49%)]\tLoss: 2.386038\n",
      "Train Epoch: 1 [29440/60000 (49%)]\tLoss: 2.433475\n",
      "Train Epoch: 1 [29760/60000 (50%)]\tLoss: 2.356537\n",
      "Train Epoch: 1 [30080/60000 (50%)]\tLoss: 2.318724\n",
      "Train Epoch: 1 [30400/60000 (51%)]\tLoss: 2.350814\n",
      "Train Epoch: 1 [30720/60000 (51%)]\tLoss: 2.318019\n",
      "Train Epoch: 1 [31040/60000 (52%)]\tLoss: 2.348588\n",
      "Train Epoch: 1 [31360/60000 (52%)]\tLoss: 2.310389\n",
      "Train Epoch: 1 [31680/60000 (53%)]\tLoss: 2.345746\n",
      "Train Epoch: 1 [32000/60000 (53%)]\tLoss: 2.343272\n",
      "Train Epoch: 1 [32320/60000 (54%)]\tLoss: 2.269492\n",
      "Train Epoch: 1 [32640/60000 (54%)]\tLoss: 2.332426\n",
      "Train Epoch: 1 [32960/60000 (55%)]\tLoss: 2.248044\n",
      "Train Epoch: 1 [33280/60000 (55%)]\tLoss: 2.338814\n",
      "Train Epoch: 1 [33600/60000 (56%)]\tLoss: 2.267637\n",
      "Train Epoch: 1 [33920/60000 (57%)]\tLoss: 2.406298\n",
      "Train Epoch: 1 [34240/60000 (57%)]\tLoss: 2.323147\n",
      "Train Epoch: 1 [34560/60000 (58%)]\tLoss: 2.304312\n",
      "Train Epoch: 1 [34880/60000 (58%)]\tLoss: 2.299652\n",
      "Train Epoch: 1 [35200/60000 (59%)]\tLoss: 2.289139\n",
      "Train Epoch: 1 [35520/60000 (59%)]\tLoss: 2.339274\n",
      "Train Epoch: 1 [35840/60000 (60%)]\tLoss: 2.359473\n",
      "Train Epoch: 1 [36160/60000 (60%)]\tLoss: 2.388725\n",
      "Train Epoch: 1 [36480/60000 (61%)]\tLoss: 2.375422\n",
      "Train Epoch: 1 [36800/60000 (61%)]\tLoss: 2.436073\n",
      "Train Epoch: 1 [37120/60000 (62%)]\tLoss: 2.384712\n",
      "Train Epoch: 1 [37440/60000 (62%)]\tLoss: 2.313254\n",
      "Train Epoch: 1 [37760/60000 (63%)]\tLoss: 2.345154\n",
      "Train Epoch: 1 [38080/60000 (63%)]\tLoss: 2.360532\n",
      "Train Epoch: 1 [38400/60000 (64%)]\tLoss: 2.292001\n",
      "Train Epoch: 1 [38720/60000 (65%)]\tLoss: 2.325041\n",
      "Train Epoch: 1 [39040/60000 (65%)]\tLoss: 2.322545\n",
      "Train Epoch: 1 [39360/60000 (66%)]\tLoss: 2.403470\n",
      "Train Epoch: 1 [39680/60000 (66%)]\tLoss: 2.398352\n",
      "Train Epoch: 1 [40000/60000 (67%)]\tLoss: 2.313363\n",
      "Train Epoch: 1 [40320/60000 (67%)]\tLoss: 2.306694\n",
      "Train Epoch: 1 [40640/60000 (68%)]\tLoss: 2.244252\n",
      "Train Epoch: 1 [40960/60000 (68%)]\tLoss: 2.326540\n",
      "Train Epoch: 1 [41280/60000 (69%)]\tLoss: 2.268440\n",
      "Train Epoch: 1 [41600/60000 (69%)]\tLoss: 2.332887\n",
      "Train Epoch: 1 [41920/60000 (70%)]\tLoss: 2.346234\n",
      "Train Epoch: 1 [42240/60000 (70%)]\tLoss: 2.313213\n",
      "Train Epoch: 1 [42560/60000 (71%)]\tLoss: 2.346212\n",
      "Train Epoch: 1 [42880/60000 (71%)]\tLoss: 2.266475\n",
      "Train Epoch: 1 [43200/60000 (72%)]\tLoss: 2.340701\n",
      "Train Epoch: 1 [43520/60000 (73%)]\tLoss: 2.279536\n",
      "Train Epoch: 1 [43840/60000 (73%)]\tLoss: 2.376481\n",
      "Train Epoch: 1 [44160/60000 (74%)]\tLoss: 2.279396\n",
      "Train Epoch: 1 [44480/60000 (74%)]\tLoss: 2.363744\n",
      "Train Epoch: 1 [44800/60000 (75%)]\tLoss: 2.369128\n",
      "Train Epoch: 1 [45120/60000 (75%)]\tLoss: 2.280284\n",
      "Train Epoch: 1 [45440/60000 (76%)]\tLoss: 2.282984\n",
      "Train Epoch: 1 [45760/60000 (76%)]\tLoss: 2.266204\n",
      "Train Epoch: 1 [46080/60000 (77%)]\tLoss: 2.317144\n",
      "Train Epoch: 1 [46400/60000 (77%)]\tLoss: 2.430356\n",
      "Train Epoch: 1 [46720/60000 (78%)]\tLoss: 2.265559\n",
      "Train Epoch: 1 [47040/60000 (78%)]\tLoss: 2.318159\n",
      "Train Epoch: 1 [47360/60000 (79%)]\tLoss: 2.273834\n",
      "Train Epoch: 1 [47680/60000 (79%)]\tLoss: 2.320581\n",
      "Train Epoch: 1 [48000/60000 (80%)]\tLoss: 2.327347\n",
      "Train Epoch: 1 [48320/60000 (81%)]\tLoss: 2.292035\n",
      "Train Epoch: 1 [48640/60000 (81%)]\tLoss: 2.306375\n",
      "Train Epoch: 1 [48960/60000 (82%)]\tLoss: 2.345088\n",
      "Train Epoch: 1 [49280/60000 (82%)]\tLoss: 2.296807\n",
      "Train Epoch: 1 [49600/60000 (83%)]\tLoss: 2.297218\n",
      "Train Epoch: 1 [49920/60000 (83%)]\tLoss: 2.329798\n",
      "Train Epoch: 1 [50240/60000 (84%)]\tLoss: 2.346226\n",
      "Train Epoch: 1 [50560/60000 (84%)]\tLoss: 2.310547\n",
      "Train Epoch: 1 [50880/60000 (85%)]\tLoss: 2.411460\n",
      "Train Epoch: 1 [51200/60000 (85%)]\tLoss: 2.276177\n",
      "Train Epoch: 1 [51520/60000 (86%)]\tLoss: 2.359254\n",
      "Train Epoch: 1 [51840/60000 (86%)]\tLoss: 2.337292\n",
      "Train Epoch: 1 [52160/60000 (87%)]\tLoss: 2.423010\n",
      "Train Epoch: 1 [52480/60000 (87%)]\tLoss: 2.433378\n",
      "Train Epoch: 1 [52800/60000 (88%)]\tLoss: 2.275094\n",
      "Train Epoch: 1 [53120/60000 (89%)]\tLoss: 2.312926\n",
      "Train Epoch: 1 [53440/60000 (89%)]\tLoss: 2.450452\n",
      "Train Epoch: 1 [53760/60000 (90%)]\tLoss: 2.430562\n",
      "Train Epoch: 1 [54080/60000 (90%)]\tLoss: 2.312766\n",
      "Train Epoch: 1 [54400/60000 (91%)]\tLoss: 2.431119\n",
      "Train Epoch: 1 [54720/60000 (91%)]\tLoss: 2.298779\n",
      "Train Epoch: 1 [55040/60000 (92%)]\tLoss: 2.333754\n",
      "Train Epoch: 1 [55360/60000 (92%)]\tLoss: 2.344042\n",
      "Train Epoch: 1 [55680/60000 (93%)]\tLoss: 2.299935\n",
      "Train Epoch: 1 [56000/60000 (93%)]\tLoss: 2.298411\n",
      "Train Epoch: 1 [56320/60000 (94%)]\tLoss: 2.290175\n",
      "Train Epoch: 1 [56640/60000 (94%)]\tLoss: 2.318575\n",
      "Train Epoch: 1 [56960/60000 (95%)]\tLoss: 2.299638\n",
      "Train Epoch: 1 [57280/60000 (95%)]\tLoss: 2.300339\n",
      "Train Epoch: 1 [57600/60000 (96%)]\tLoss: 2.379939\n",
      "Train Epoch: 1 [57920/60000 (97%)]\tLoss: 2.272250\n",
      "Train Epoch: 1 [58240/60000 (97%)]\tLoss: 2.346762\n",
      "Train Epoch: 1 [58560/60000 (98%)]\tLoss: 2.355440\n",
      "Train Epoch: 1 [58880/60000 (98%)]\tLoss: 2.344793\n",
      "Train Epoch: 1 [59200/60000 (99%)]\tLoss: 2.369125\n",
      "Train Epoch: 1 [59520/60000 (99%)]\tLoss: 2.362015\n",
      "Train Epoch: 1 [59840/60000 (100%)]\tLoss: 2.345896\n",
      "\n",
      "Test set: Average loss: 2.3293, Accuracy: 1028/10000 (10%)\n",
      "\n"
     ]
    }
   ],
   "source": [
    "device = torch.device(\"cuda\" if torch.cuda.is_available() else \"cpu\")\n",
    "model = NetWithCNN().to(device)\n",
    "\n",
    "#optimizer = optim.SGD(model.parameters(), lr=args['lr'], momentum=args['momentum'])\n",
    "\n",
    "optimizer = torch.optim.SGD(model.parameters(), lr=0.01, momentum=0.9)\n",
    "\n",
    "for epoch in range(1, args['epochs'] + 1):\n",
    "    train(epoch)\n",
    "    test()"
   ]
  },
  {
   "cell_type": "code",
   "execution_count": null,
   "metadata": {
    "id": "9m3--4A-nDL-"
   },
   "outputs": [],
   "source": []
  }
 ],
 "metadata": {
  "accelerator": "GPU",
  "colab": {
   "gpuType": "T4",
   "provenance": []
  },
  "kernelspec": {
   "display_name": "Python [conda env:base] *",
   "language": "python",
   "name": "conda-base-py"
  },
  "language_info": {
   "codemirror_mode": {
    "name": "ipython",
    "version": 3
   },
   "file_extension": ".py",
   "mimetype": "text/x-python",
   "name": "python",
   "nbconvert_exporter": "python",
   "pygments_lexer": "ipython3",
   "version": "3.12.7"
  }
 },
 "nbformat": 4,
 "nbformat_minor": 4
}
